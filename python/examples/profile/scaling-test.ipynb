{
 "cells": [
  {
   "cell_type": "markdown",
   "metadata": {},
   "source": [
    "# Assessing the Performance of Lolopy\n",
    "Transferring data to and from JVM is remarkably costly. In this notebook, we quantify how costly the transfer is compared to the training as a function of training set size. We will use a standard ML problem: predicting glass-forming ability of ternary metallic alloys."
   ]
  },
  {
   "cell_type": "code",
   "execution_count": 1,
   "metadata": {},
   "outputs": [],
   "source": [
    "%matplotlib inline\n",
    "from matplotlib import pyplot as plt\n",
    "from tqdm import tqdm_notebook as tqdm\n",
    "from matminer.datasets.dataset_retrieval import load_dataset\n",
    "from matminer.featurizers.composition import ElementProperty\n",
    "from lolopy.learners import RandomForestRegressor\n",
    "from sklearn.ensemble import RandomForestRegressor as SKRFRegressor\n",
    "from sklearn.datasets import load_boston\n",
    "from subprocess import PIPE, Popen\n",
    "from pymatgen import Composition\n",
    "from time import perf_counter\n",
    "import pandas as pd\n",
    "import numpy as np"
   ]
  },
  {
   "cell_type": "markdown",
   "metadata": {},
   "source": [
    "Make a timing function. "
   ]
  },
  {
   "cell_type": "code",
   "execution_count": 2,
   "metadata": {},
   "outputs": [],
   "source": [
    "def time_function(fun, n, *args, **kwargs):\n",
    "    \"\"\"Run a certain function and return timing\n",
    "    \n",
    "    Args:\n",
    "        fun (function): Function to be evaluated\n",
    "        n (int): Number of times to run function\n",
    "        args: Input to function\n",
    "    Returns:\n",
    "        ([float]) Function run times\n",
    "    \"\"\"\n",
    "    \n",
    "    times = []\n",
    "    for i in range(n):\n",
    "        st = perf_counter()\n",
    "        fun(*args, **kwargs)\n",
    "        times.append(perf_counter() - st)\n",
    "    return times"
   ]
  },
  {
   "cell_type": "markdown",
   "metadata": {},
   "source": [
    "## Create the Dataset\n",
    "We'll use the Materials Project dataset"
   ]
  },
  {
   "cell_type": "markdown",
   "metadata": {},
   "source": [
    "Pull down the dataset"
   ]
  },
  {
   "cell_type": "code",
   "execution_count": 3,
   "metadata": {},
   "outputs": [],
   "source": [
    "data = load_dataset('mp_nostruct')"
   ]
  },
  {
   "cell_type": "markdown",
   "metadata": {},
   "source": [
    "Eliminate entries without formulas"
   ]
  },
  {
   "cell_type": "code",
   "execution_count": 4,
   "metadata": {},
   "outputs": [],
   "source": [
    "data = data[~ data['formula'].isnull()]"
   ]
  },
  {
   "cell_type": "markdown",
   "metadata": {},
   "source": [
    "Downselect to $10^3$ entries"
   ]
  },
  {
   "cell_type": "code",
   "execution_count": 5,
   "metadata": {},
   "outputs": [],
   "source": [
    "data = data.sample(1000)"
   ]
  },
  {
   "cell_type": "markdown",
   "metadata": {},
   "source": [
    "Generate some features"
   ]
  },
  {
   "cell_type": "code",
   "execution_count": 6,
   "metadata": {},
   "outputs": [],
   "source": [
    "X = np.array(ElementProperty.from_preset('magpie').featurize_many(data['formula'].apply(Composition), pbar=False))"
   ]
  },
  {
   "cell_type": "code",
   "execution_count": 7,
   "metadata": {},
   "outputs": [],
   "source": [
    "y = data['e_form'].values"
   ]
  },
  {
   "cell_type": "markdown",
   "metadata": {},
   "source": [
    "Make a function to run the scala benchmark"
   ]
  },
  {
   "cell_type": "code",
   "execution_count": 8,
   "metadata": {},
   "outputs": [],
   "source": [
    "def get_scala_timings(X, y, X_run):\n",
    "    \"\"\"Train a RF with standard settings using Lolo, generate uncertainties for whole dataset, report timings\n",
    "    \n",
    "    Args:\n",
    "        X, y (ndarray): Training dataset\n",
    "        X_run (ndarray): Dataset to evaluate\n",
    "    Returns:\n",
    "        train, expected, uncertainty (float): Training time, expected and uncertainty evaluation times\n",
    "    \"\"\"\n",
    "    np.savetxt('train.csv', np.hstack((X, y[:, None])), delimiter=',')\n",
    "    np.savetxt('run.csv', np.hstack((X_run, np.zeros((len(X_run), 1)))), delimiter=',')\n",
    "    p = Popen('scala -J-Xmx8g -cp ../../../target/lolo-1.0.2.jar scala-benchmark.scala train.csv run.csv', stdout=PIPE, \n",
    "         stderr=PIPE, shell=True)\n",
    "    \n",
    "    result = p.stdout.read().decode()\n",
    "    return map(float, result.split(','))"
   ]
  },
  {
   "cell_type": "code",
   "execution_count": 9,
   "metadata": {},
   "outputs": [],
   "source": [
    "scala_train, scala_expect, scala_uncert = get_scala_timings(X, y, X)"
   ]
  },
  {
   "cell_type": "code",
   "execution_count": 10,
   "metadata": {},
   "outputs": [
    {
     "name": "stdout",
     "output_type": "stream",
     "text": [
      "Lolo train time: 26.262726092\n"
     ]
    }
   ],
   "source": [
    "print('Lolo train time:', scala_train)"
   ]
  },
  {
   "cell_type": "code",
   "execution_count": 11,
   "metadata": {},
   "outputs": [
    {
     "name": "stdout",
     "output_type": "stream",
     "text": [
      "Lolo apply time 5.761894053950001\n"
     ]
    }
   ],
   "source": [
    "print('Lolo apply time', scala_expect + scala_uncert)"
   ]
  },
  {
   "cell_type": "markdown",
   "metadata": {},
   "source": [
    "## Profile Fitting the Model\n",
    "We are looking to comprae the total time for fitting a model to the time required to send data over"
   ]
  },
  {
   "cell_type": "code",
   "execution_count": 12,
   "metadata": {},
   "outputs": [],
   "source": [
    "model = RandomForestRegressor(num_trees=len(X))"
   ]
  },
  {
   "cell_type": "markdown",
   "metadata": {},
   "source": [
    "Fit the model 16 times, measure the times"
   ]
  },
  {
   "cell_type": "code",
   "execution_count": 13,
   "metadata": {},
   "outputs": [
    {
     "name": "stdout",
     "output_type": "stream",
     "text": [
      "Average fit time: 20.38356062543744\n"
     ]
    }
   ],
   "source": [
    "rf_fit = time_function(model.fit, 16, X, y)\n",
    "print('Average fit time:', np.mean(rf_fit))"
   ]
  },
  {
   "cell_type": "markdown",
   "metadata": {},
   "source": [
    "Run only transfering the data to Java, record the time"
   ]
  },
  {
   "cell_type": "code",
   "execution_count": 14,
   "metadata": {},
   "outputs": [
    {
     "name": "stdout",
     "output_type": "stream",
     "text": [
      "Average transfer time: 10.887902982750802\n"
     ]
    }
   ],
   "source": [
    "rf_transfer = time_function(model._convert_train_data, 16, X, y)\n",
    "print('Average transfer time:', np.mean(rf_transfer))"
   ]
  },
  {
   "cell_type": "markdown",
   "metadata": {},
   "source": [
    "Compute uncertainities"
   ]
  },
  {
   "cell_type": "code",
   "execution_count": 15,
   "metadata": {},
   "outputs": [
    {
     "name": "stdout",
     "output_type": "stream",
     "text": [
      "Average predict time: 14.97426885462528\n"
     ]
    }
   ],
   "source": [
    "rf_apply = time_function(model.predict, 16, X, return_std=True)\n",
    "print('Average predict time:', np.mean(rf_apply))"
   ]
  },
  {
   "cell_type": "code",
   "execution_count": 16,
   "metadata": {},
   "outputs": [
    {
     "name": "stdout",
     "output_type": "stream",
     "text": [
      "Average transfer time for prediction: 10.752074769375213\n"
     ]
    }
   ],
   "source": [
    "rf_apply_transfer = time_function(model._convert_run_data, 16, X)\n",
    "print('Average transfer time for prediction:', np.mean(rf_apply_transfer))"
   ]
  },
  {
   "cell_type": "markdown",
   "metadata": {},
   "source": [
    "## Time Scikit-Learn\n",
    "Compare against a scikit-learn model with the same amount of trees as Lolo.\n",
    "\n",
    "*TODO*: Make sure the number of features evaluated are the same"
   ]
  },
  {
   "cell_type": "code",
   "execution_count": 17,
   "metadata": {},
   "outputs": [],
   "source": [
    "sk_model = SKRFRegressor(n_estimators=len(X))"
   ]
  },
  {
   "cell_type": "code",
   "execution_count": 18,
   "metadata": {},
   "outputs": [],
   "source": [
    "sk_train = time_function(sk_model.fit, 16, X, y)"
   ]
  },
  {
   "cell_type": "code",
   "execution_count": 19,
   "metadata": {},
   "outputs": [
    {
     "name": "stdout",
     "output_type": "stream",
     "text": [
      "Sklearn fitting time: 32.69261649825057\n"
     ]
    }
   ],
   "source": [
    "print('Sklearn fitting time:', np.mean(sk_train))"
   ]
  },
  {
   "cell_type": "markdown",
   "metadata": {
    "collapsed": true
   },
   "source": [
    "## Compare as a Function of Scale\n",
    "Measure the performance of each model as a function of training/test set size"
   ]
  },
  {
   "cell_type": "code",
   "execution_count": 20,
   "metadata": {},
   "outputs": [
    {
     "data": {
      "application/vnd.jupyter.widget-view+json": {
       "model_id": "9eea7476e9724352972d4682712a883a",
       "version_major": 2,
       "version_minor": 0
      },
      "text/plain": [
       "HBox(children=(IntProgress(value=0, max=8), HTML(value='')))"
      ]
     },
     "metadata": {},
     "output_type": "display_data"
    },
    {
     "name": "stdout",
     "output_type": "stream",
     "text": [
      "\n"
     ]
    }
   ],
   "source": [
    "results = []\n",
    "for n in tqdm(np.logspace(1, np.log10(len(X)), 8, dtype=int)):\n",
    "    # Initialize output\n",
    "    r = {'n': n}\n",
    "    \n",
    "    # Get the training and test set sizes\n",
    "    X_n = X[:n, :]\n",
    "    y_n = y[:n]\n",
    "    \n",
    "    # Time using lolo via Scala\n",
    "    scala_train, scala_expect, scala_uncert = get_scala_timings(X_n, y_n, X)\n",
    "    r['scala_train'] = scala_train\n",
    "    r['scala_apply'] = scala_expect\n",
    "    r['scala_apply_wuncert'] = scala_expect + scala_uncert\n",
    "    \n",
    "    # Time using lolo via lolopy\n",
    "    model = RandomForestRegressor(num_trees=int(n))\n",
    "    \n",
    "    r['lolopy_train'] = np.mean(time_function(model.fit, 16, X_n, y_n))\n",
    "    r['lolopy_train_transfer'] = np.mean(time_function(model._convert_train_data, 16, X_n, y_n))\n",
    "    \n",
    "    r['lolopy_apply'] = np.mean(time_function(model.predict, 16, X, return_std=False))\n",
    "    r['lolopy_apply_wuncert'] = np.mean(time_function(model.predict, 16, X, return_std=False))\n",
    "    r['lolopy_apply_transfer'] = np.mean(time_function(model._convert_run_data, 16, X))\n",
    "    \n",
    "    # Time using RF\n",
    "    sk_model = SKRFRegressor(n_estimators=n)\n",
    "    \n",
    "    r['sklearn_fit'] = np.mean(time_function(sk_model.fit, 16, X_n, y_n))\n",
    "    r['sklearn_apply'] = np.mean(time_function(sk_model.predict, 16, X))\n",
    "    \n",
    "    # Append results and continue\n",
    "    results.append(r)"
   ]
  },
  {
   "cell_type": "code",
   "execution_count": 21,
   "metadata": {},
   "outputs": [],
   "source": [
    "results = pd.DataFrame(results)"
   ]
  },
  {
   "cell_type": "code",
   "execution_count": 22,
   "metadata": {},
   "outputs": [
    {
     "data": {
      "text/html": [
       "<div>\n",
       "<style scoped>\n",
       "    .dataframe tbody tr th:only-of-type {\n",
       "        vertical-align: middle;\n",
       "    }\n",
       "\n",
       "    .dataframe tbody tr th {\n",
       "        vertical-align: top;\n",
       "    }\n",
       "\n",
       "    .dataframe thead th {\n",
       "        text-align: right;\n",
       "    }\n",
       "</style>\n",
       "<table border=\"1\" class=\"dataframe\">\n",
       "  <thead>\n",
       "    <tr style=\"text-align: right;\">\n",
       "      <th></th>\n",
       "      <th>lolopy_apply</th>\n",
       "      <th>lolopy_apply_transfer</th>\n",
       "      <th>lolopy_apply_wuncert</th>\n",
       "      <th>lolopy_train</th>\n",
       "      <th>lolopy_train_transfer</th>\n",
       "      <th>n</th>\n",
       "      <th>scala_apply</th>\n",
       "      <th>scala_apply_wuncert</th>\n",
       "      <th>scala_train</th>\n",
       "      <th>sklearn_apply</th>\n",
       "      <th>sklearn_fit</th>\n",
       "    </tr>\n",
       "  </thead>\n",
       "  <tbody>\n",
       "    <tr>\n",
       "      <th>0</th>\n",
       "      <td>10.775036</td>\n",
       "      <td>10.858053</td>\n",
       "      <td>10.781183</td>\n",
       "      <td>0.199327</td>\n",
       "      <td>0.107842</td>\n",
       "      <td>10</td>\n",
       "      <td>0.021026</td>\n",
       "      <td>0.049658</td>\n",
       "      <td>0.009300</td>\n",
       "      <td>0.001391</td>\n",
       "      <td>0.007088</td>\n",
       "    </tr>\n",
       "    <tr>\n",
       "      <th>1</th>\n",
       "      <td>10.753698</td>\n",
       "      <td>10.381288</td>\n",
       "      <td>10.562620</td>\n",
       "      <td>0.299071</td>\n",
       "      <td>0.216780</td>\n",
       "      <td>19</td>\n",
       "      <td>0.057966</td>\n",
       "      <td>0.104016</td>\n",
       "      <td>0.014256</td>\n",
       "      <td>0.002627</td>\n",
       "      <td>0.016129</td>\n",
       "    </tr>\n",
       "    <tr>\n",
       "      <th>2</th>\n",
       "      <td>10.597830</td>\n",
       "      <td>10.278695</td>\n",
       "      <td>10.530966</td>\n",
       "      <td>0.539136</td>\n",
       "      <td>0.406271</td>\n",
       "      <td>37</td>\n",
       "      <td>0.063269</td>\n",
       "      <td>0.151826</td>\n",
       "      <td>0.031548</td>\n",
       "      <td>0.004633</td>\n",
       "      <td>0.043340</td>\n",
       "    </tr>\n",
       "    <tr>\n",
       "      <th>3</th>\n",
       "      <td>10.738476</td>\n",
       "      <td>9.762503</td>\n",
       "      <td>10.631293</td>\n",
       "      <td>0.973522</td>\n",
       "      <td>0.786180</td>\n",
       "      <td>71</td>\n",
       "      <td>0.127118</td>\n",
       "      <td>0.291790</td>\n",
       "      <td>0.098440</td>\n",
       "      <td>0.009767</td>\n",
       "      <td>0.133338</td>\n",
       "    </tr>\n",
       "    <tr>\n",
       "      <th>4</th>\n",
       "      <td>10.975474</td>\n",
       "      <td>10.640962</td>\n",
       "      <td>11.088227</td>\n",
       "      <td>1.821075</td>\n",
       "      <td>1.490895</td>\n",
       "      <td>138</td>\n",
       "      <td>0.245658</td>\n",
       "      <td>0.562628</td>\n",
       "      <td>0.396111</td>\n",
       "      <td>0.019514</td>\n",
       "      <td>0.522144</td>\n",
       "    </tr>\n",
       "    <tr>\n",
       "      <th>5</th>\n",
       "      <td>11.252679</td>\n",
       "      <td>10.790091</td>\n",
       "      <td>11.143066</td>\n",
       "      <td>3.751250</td>\n",
       "      <td>2.976279</td>\n",
       "      <td>268</td>\n",
       "      <td>0.470577</td>\n",
       "      <td>1.122941</td>\n",
       "      <td>1.585502</td>\n",
       "      <td>0.041373</td>\n",
       "      <td>2.058836</td>\n",
       "    </tr>\n",
       "    <tr>\n",
       "      <th>6</th>\n",
       "      <td>11.837140</td>\n",
       "      <td>10.568365</td>\n",
       "      <td>11.465061</td>\n",
       "      <td>8.256698</td>\n",
       "      <td>5.783916</td>\n",
       "      <td>517</td>\n",
       "      <td>0.909739</td>\n",
       "      <td>2.520647</td>\n",
       "      <td>5.910262</td>\n",
       "      <td>0.090156</td>\n",
       "      <td>8.200250</td>\n",
       "    </tr>\n",
       "    <tr>\n",
       "      <th>7</th>\n",
       "      <td>12.549230</td>\n",
       "      <td>10.700737</td>\n",
       "      <td>12.210339</td>\n",
       "      <td>19.963740</td>\n",
       "      <td>11.125726</td>\n",
       "      <td>1000</td>\n",
       "      <td>1.729961</td>\n",
       "      <td>6.247031</td>\n",
       "      <td>27.093374</td>\n",
       "      <td>0.202815</td>\n",
       "      <td>33.303280</td>\n",
       "    </tr>\n",
       "  </tbody>\n",
       "</table>\n",
       "</div>"
      ],
      "text/plain": [
       "   lolopy_apply  lolopy_apply_transfer  lolopy_apply_wuncert  lolopy_train  \\\n",
       "0     10.775036              10.858053             10.781183      0.199327   \n",
       "1     10.753698              10.381288             10.562620      0.299071   \n",
       "2     10.597830              10.278695             10.530966      0.539136   \n",
       "3     10.738476               9.762503             10.631293      0.973522   \n",
       "4     10.975474              10.640962             11.088227      1.821075   \n",
       "5     11.252679              10.790091             11.143066      3.751250   \n",
       "6     11.837140              10.568365             11.465061      8.256698   \n",
       "7     12.549230              10.700737             12.210339     19.963740   \n",
       "\n",
       "   lolopy_train_transfer     n  scala_apply  scala_apply_wuncert  scala_train  \\\n",
       "0               0.107842    10     0.021026             0.049658     0.009300   \n",
       "1               0.216780    19     0.057966             0.104016     0.014256   \n",
       "2               0.406271    37     0.063269             0.151826     0.031548   \n",
       "3               0.786180    71     0.127118             0.291790     0.098440   \n",
       "4               1.490895   138     0.245658             0.562628     0.396111   \n",
       "5               2.976279   268     0.470577             1.122941     1.585502   \n",
       "6               5.783916   517     0.909739             2.520647     5.910262   \n",
       "7              11.125726  1000     1.729961             6.247031    27.093374   \n",
       "\n",
       "   sklearn_apply  sklearn_fit  \n",
       "0       0.001391     0.007088  \n",
       "1       0.002627     0.016129  \n",
       "2       0.004633     0.043340  \n",
       "3       0.009767     0.133338  \n",
       "4       0.019514     0.522144  \n",
       "5       0.041373     2.058836  \n",
       "6       0.090156     8.200250  \n",
       "7       0.202815    33.303280  "
      ]
     },
     "execution_count": 22,
     "metadata": {},
     "output_type": "execute_result"
    }
   ],
   "source": [
    "results"
   ]
  },
  {
   "cell_type": "markdown",
   "metadata": {},
   "source": [
    "Plot the training results"
   ]
  },
  {
   "cell_type": "code",
   "execution_count": 23,
   "metadata": {
    "scrolled": true
   },
   "outputs": [
    {
     "data": {
      "image/png": "[encoded data removed]",
      "text/plain": [
       "<Figure size 252x180 with 1 Axes>"
      ]
     },
     "metadata": {
      "needs_background": "light"
     },
     "output_type": "display_data"
    }
   ],
   "source": [
    "fig, ax = plt.subplots()\n",
    "\n",
    "ax.fill_between(results['n'], results['lolopy_train_transfer'], 0.001, alpha=0.1)\n",
    "\n",
    "ax.loglog(results['n'], results['lolopy_train'], 'r', label='lolopy')\n",
    "ax.loglog(results['n'], results['scala_train'], 'b--', label='lolo')\n",
    "ax.loglog(results['n'], results['sklearn_fit'], 'g:', label='sklearn')\n",
    "\n",
    "ax.set_ylim(0.005, max(ax.get_ylim()))\n",
    "\n",
    "ax.set_xlabel('Training Set Size')\n",
    "ax.set_ylabel('Train Time (s)')\n",
    "\n",
    "ax.legend()\n",
    "fig.set_size_inches(3.5, 2.5)\n",
    "fig.tight_layout()"
   ]
  },
  {
   "cell_type": "markdown",
   "metadata": {},
   "source": [
    "Plot the evaluation speed. Note that the number of trees scales with the training set size (hence the decrease in speed with training set size)"
   ]
  },
  {
   "cell_type": "code",
   "execution_count": 24,
   "metadata": {},
   "outputs": [
    {
     "data": {
      "image/png": "[encoded data removed]",
      "text/plain": [
       "<Figure size 468x180 with 2 Axes>"
      ]
     },
     "metadata": {
      "needs_background": "light"
     },
     "output_type": "display_data"
    }
   ],
   "source": [
    "fig, axs = plt.subplots(1, 2)\n",
    "\n",
    "# Plot results without uncertainties\n",
    "axs[0].loglog(results['n'], len(X)  / results['lolopy_apply'], 'r', label='lolopy')\n",
    "axs[0].loglog(results['n'], len(X) / results['scala_apply'], 'b--', label='lolo')\n",
    "axs[0].loglog(results['n'], len(X) / results['sklearn_apply'], 'g:', label='sklearn')\n",
    "axs[0].set_title('Without Uncertainties')\n",
    "\n",
    "# Plot results with uncertainities\n",
    "axs[1].loglog(results['n'], len(X)  / results['lolopy_apply_wuncert'], 'r', label='lolopy')\n",
    "axs[1].loglog(results['n'], len(X) / results['scala_apply_wuncert'], 'b--', label='lolo')\n",
    "axs[1].set_title('With Uncertainties')\n",
    "\n",
    "for ax in axs:\n",
    "\n",
    "    ax.set_xlabel('Training Set Size')\n",
    "    ax.set_ylabel('Evaluation Speed (entry/s)')\n",
    "\n",
    "    ax.legend()\n",
    "fig.set_size_inches(6.5, 2.5)\n",
    "fig.tight_layout()"
   ]
  },
  {
   "cell_type": "code",
   "execution_count": 25,
   "metadata": {},
   "outputs": [],
   "source": []
  }
 ],
 "metadata": {
  "kernelspec": {
   "display_name": "Python 3",
   "language": "python",
   "name": "python3"
  },
  "language_info": {
   "codemirror_mode": {
    "name": "ipython",
    "version": 3
   },
   "file_extension": ".py",
   "mimetype": "text/x-python",
   "name": "python",
   "nbconvert_exporter": "python",
   "pygments_lexer": "ipython3",
   "version": "3.7.1"
  }
 },
 "nbformat": 4,
 "nbformat_minor": 2
}
