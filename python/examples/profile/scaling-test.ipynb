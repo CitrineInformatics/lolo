{
 "cells": [
  {
   "cell_type": "markdown",
   "metadata": {},
   "source": [
    "# Assessing the Performance of Lolopy\n",
    "Transferring data to and from JVM is remarkably costly. In this notebook, we quantify how costly the transfer is compared to the training as a function of training set size. We will use a standard ML problem: predicting glass-forming ability of ternary metallic alloys."
   ]
  },
  {
   "cell_type": "code",
   "execution_count": 1,
   "metadata": {},
   "outputs": [],
   "source": [
    "%matplotlib inline\n",
    "from matplotlib import pyplot as plt\n",
    "from tqdm import tqdm_notebook as tqdm\n",
    "from matminer.datasets.dataset_retrieval import load_dataset\n",
    "from matminer.featurizers.composition import ElementProperty\n",
    "from lolopy.learners import RandomForestRegressor\n",
    "from sklearn.ensemble import RandomForestRegressor as SKRFRegressor\n",
    "from sklearn.datasets import load_boston\n",
    "from subprocess import PIPE, Popen\n",
    "from pymatgen import Composition\n",
    "from time import perf_counter\n",
    "import pandas as pd\n",
    "import numpy as np"
   ]
  },
  {
   "cell_type": "markdown",
   "metadata": {},
   "source": [
    "Make a timing function. "
   ]
  },
  {
   "cell_type": "code",
   "execution_count": 2,
   "metadata": {},
   "outputs": [],
   "source": [
    "def time_function(fun, n, *args, **kwargs):\n",
    "    \"\"\"Run a certain function and return timing\n",
    "    \n",
    "    Args:\n",
    "        fun (function): Function to be evaluated\n",
    "        n (int): Number of times to run function\n",
    "        args: Input to function\n",
    "    Returns:\n",
    "        ([float]) Function run times\n",
    "    \"\"\"\n",
    "    \n",
    "    times = []\n",
    "    for i in range(n):\n",
    "        st = perf_counter()\n",
    "        fun(*args, **kwargs)\n",
    "        times.append(perf_counter() - st)\n",
    "    return times"
   ]
  },
  {
   "cell_type": "markdown",
   "metadata": {},
   "source": [
    "## Create the Dataset\n",
    "We'll use the Materials Project dataset"
   ]
  },
  {
   "cell_type": "markdown",
   "metadata": {},
   "source": [
    "Pull down the dataset"
   ]
  },
  {
   "cell_type": "code",
   "execution_count": 3,
   "metadata": {},
   "outputs": [],
   "source": [
    "data = load_dataset('mp_nostruct')"
   ]
  },
  {
   "cell_type": "markdown",
   "metadata": {},
   "source": [
    "Eliminate entries without formulas"
   ]
  },
  {
   "cell_type": "code",
   "execution_count": 4,
   "metadata": {},
   "outputs": [],
   "source": [
    "data = data[~ data['formula'].isnull()]"
   ]
  },
  {
   "cell_type": "markdown",
   "metadata": {},
   "source": [
    "Downselect to $10^3$ entries"
   ]
  },
  {
   "cell_type": "code",
   "execution_count": 5,
   "metadata": {},
   "outputs": [],
   "source": [
    "data = data.sample(1000)"
   ]
  },
  {
   "cell_type": "markdown",
   "metadata": {},
   "source": [
    "Generate some features"
   ]
  },
  {
   "cell_type": "code",
   "execution_count": 6,
   "metadata": {},
   "outputs": [],
   "source": [
    "X = np.array(ElementProperty.from_preset('magpie').featurize_many(data['formula'].apply(Composition), pbar=False))"
   ]
  },
  {
   "cell_type": "code",
   "execution_count": 7,
   "metadata": {},
   "outputs": [],
   "source": [
    "y = data['e_form'].values"
   ]
  },
  {
   "cell_type": "markdown",
   "metadata": {},
   "source": [
    "Make a function to run the scala benchmark"
   ]
  },
  {
   "cell_type": "code",
   "execution_count": 8,
   "metadata": {},
   "outputs": [],
   "source": [
    "def get_scala_timings(X, y, X_run):\n",
    "    \"\"\"Train a RF with standard settings using Lolo, generate uncertainties for whole dataset, report timings\n",
    "    \n",
    "    Args:\n",
    "        X, y (ndarray): Training dataset\n",
    "        X_run (ndarray): Dataset to evaluate\n",
    "    Returns:\n",
    "        train, expected, uncertainty (float): Training time, expected and uncertainty evaluation times\n",
    "    \"\"\"\n",
    "    np.savetxt('train.csv', np.hstack((X, y[:, None])), delimiter=',')\n",
    "    np.savetxt('run.csv', np.hstack((X_run, np.zeros((len(X_run), 1)))), delimiter=',')\n",
    "    p = Popen('scala -J-Xmx8g -cp ../../../target/lolo-1.0.2.jar scala-benchmark.scala train.csv run.csv', stdout=PIPE, \n",
    "         stderr=PIPE, shell=True)\n",
    "    \n",
    "    result = p.stdout.read().decode()\n",
    "    return map(float, result.split(','))"
   ]
  },
  {
   "cell_type": "code",
   "execution_count": 9,
   "metadata": {},
   "outputs": [],
   "source": [
    "scala_train, scala_expect, scala_uncert = get_scala_timings(X, y, X)"
   ]
  },
  {
   "cell_type": "code",
   "execution_count": 10,
   "metadata": {},
   "outputs": [
    {
     "name": "stdout",
     "output_type": "stream",
     "text": [
      "Lolo train time: 26.298801822083334\n"
     ]
    }
   ],
   "source": [
    "print('Lolo train time:', scala_train)"
   ]
  },
  {
   "cell_type": "code",
   "execution_count": 11,
   "metadata": {},
   "outputs": [
    {
     "name": "stdout",
     "output_type": "stream",
     "text": [
      "Lolo apply time 5.60105950375\n"
     ]
    }
   ],
   "source": [
    "print('Lolo apply time', scala_expect + scala_uncert)"
   ]
  },
  {
   "cell_type": "markdown",
   "metadata": {},
   "source": [
    "## Profile Fitting the Model\n",
    "We are looking to comprae the total time for fitting a model to the time required to send data over"
   ]
  },
  {
   "cell_type": "code",
   "execution_count": 12,
   "metadata": {},
   "outputs": [],
   "source": [
    "model = RandomForestRegressor(num_trees=len(X))"
   ]
  },
  {
   "cell_type": "markdown",
   "metadata": {},
   "source": [
    "Fit the model 16 times, measure the times"
   ]
  },
  {
   "cell_type": "code",
   "execution_count": 13,
   "metadata": {},
   "outputs": [
    {
     "name": "stdout",
     "output_type": "stream",
     "text": [
      "Average fit time: 26.239948785776505\n"
     ]
    }
   ],
   "source": [
    "rf_fit = time_function(model.fit, 16, X, y)\n",
    "print('Average fit time:', np.mean(rf_fit))"
   ]
  },
  {
   "cell_type": "markdown",
   "metadata": {},
   "source": [
    "Run only transfering the data to Java, record the time"
   ]
  },
  {
   "cell_type": "code",
   "execution_count": 14,
   "metadata": {},
   "outputs": [],
   "source": [
    "x_java, _ = model._convert_train_data(X, y, None)"
   ]
  },
  {
   "cell_type": "code",
   "execution_count": 15,
   "metadata": {},
   "outputs": [
    {
     "name": "stdout",
     "output_type": "stream",
     "text": [
      "Average transfer time: 0.0384467131952988\n"
     ]
    }
   ],
   "source": [
    "rf_transfer = time_function(model._convert_train_data, 16, X, y)\n",
    "print('Average transfer time:', np.mean(rf_transfer))"
   ]
  },
  {
   "cell_type": "markdown",
   "metadata": {},
   "source": [
    "Compute uncertainities"
   ]
  },
  {
   "cell_type": "code",
   "execution_count": 16,
   "metadata": {},
   "outputs": [
    {
     "name": "stdout",
     "output_type": "stream",
     "text": [
      "Average predict time: 4.793829561443999\n"
     ]
    }
   ],
   "source": [
    "rf_apply = time_function(model.predict, 16, X, return_std=True)\n",
    "print('Average predict time:', np.mean(rf_apply))"
   ]
  },
  {
   "cell_type": "code",
   "execution_count": 17,
   "metadata": {},
   "outputs": [
    {
     "name": "stdout",
     "output_type": "stream",
     "text": [
      "Average transfer time for prediction: 0.036416578164789826\n"
     ]
    }
   ],
   "source": [
    "rf_apply_transfer = time_function(model._convert_run_data, 16, X)\n",
    "print('Average transfer time for prediction:', np.mean(rf_apply_transfer))"
   ]
  },
  {
   "cell_type": "markdown",
   "metadata": {},
   "source": [
    "## Time Scikit-Learn\n",
    "Compare against a scikit-learn model with the same amount of trees as Lolo.\n",
    "\n",
    "*TODO*: Make sure the number of features evaluated are the same"
   ]
  },
  {
   "cell_type": "code",
   "execution_count": 18,
   "metadata": {},
   "outputs": [],
   "source": [
    "sk_model = SKRFRegressor(n_estimators=len(X), n_jobs=-1)"
   ]
  },
  {
   "cell_type": "code",
   "execution_count": 19,
   "metadata": {},
   "outputs": [],
   "source": [
    "sk_train = time_function(sk_model.fit, 16, X, y)"
   ]
  },
  {
   "cell_type": "code",
   "execution_count": 20,
   "metadata": {},
   "outputs": [
    {
     "name": "stdout",
     "output_type": "stream",
     "text": [
      "Sklearn fitting time: 6.344176295096986\n"
     ]
    }
   ],
   "source": [
    "print('Sklearn fitting time:', np.mean(sk_train))"
   ]
  },
  {
   "cell_type": "markdown",
   "metadata": {
    "collapsed": true
   },
   "source": [
    "## Compare as a Function of Scale\n",
    "Measure the performance of each model as a function of training/test set size"
   ]
  },
  {
   "cell_type": "code",
   "execution_count": 21,
   "metadata": {},
   "outputs": [
    {
     "data": {
      "application/vnd.jupyter.widget-view+json": {
       "model_id": "9970fa00e3be4c4b813befa35acbeed6",
       "version_major": 2,
       "version_minor": 0
      },
      "text/plain": [
       "HBox(children=(IntProgress(value=0, max=8), HTML(value='')))"
      ]
     },
     "metadata": {},
     "output_type": "display_data"
    },
    {
     "name": "stdout",
     "output_type": "stream",
     "text": [
      "\n"
     ]
    }
   ],
   "source": [
    "results = []\n",
    "for n in tqdm(np.logspace(1, np.log10(len(X)), 8, dtype=int)):\n",
    "    # Initialize output\n",
    "    r = {'n': n}\n",
    "    \n",
    "    # Get the training and test set sizes\n",
    "    X_n = X[:n, :]\n",
    "    y_n = y[:n]\n",
    "    \n",
    "    # Time using lolo via Scala\n",
    "    scala_train, scala_expect, scala_uncert = get_scala_timings(X_n, y_n, X)\n",
    "    r['scala_train'] = scala_train\n",
    "    r['scala_apply'] = scala_expect\n",
    "    r['scala_apply_wuncert'] = scala_expect + scala_uncert\n",
    "    \n",
    "    # Time using lolo via lolopy\n",
    "    model.set_params(num_trees=len(X_n))\n",
    "    \n",
    "    r['lolopy_train'] = np.mean(time_function(model.fit, 16, X_n, y_n))\n",
    "    r['lolopy_train_transfer'] = np.mean(time_function(model._convert_train_data, 16, X_n, y_n))\n",
    "    \n",
    "    r['lolopy_apply'] = np.mean(time_function(model.predict, 16, X, return_std=False))\n",
    "    r['lolopy_apply_wuncert'] = np.mean(time_function(model.predict, 16, X, return_std=True))\n",
    "    r['lolopy_apply_transfer'] = np.mean(time_function(model._convert_run_data, 16, X))\n",
    "    \n",
    "    \n",
    "    # Time using RF\n",
    "    sk_model = SKRFRegressor(n_estimators=n)\n",
    "    \n",
    "    r['sklearn_fit'] = np.mean(time_function(sk_model.fit, 16, X_n, y_n))\n",
    "    r['sklearn_apply'] = np.mean(time_function(sk_model.predict, 16, X))\n",
    "    \n",
    "    # Append results and continue\n",
    "    results.append(r)"
   ]
  },
  {
   "cell_type": "code",
   "execution_count": 22,
   "metadata": {},
   "outputs": [],
   "source": [
    "results = pd.DataFrame(results)"
   ]
  },
  {
   "cell_type": "code",
   "execution_count": 23,
   "metadata": {
    "scrolled": true
   },
   "outputs": [
    {
     "data": {
      "text/html": [
       "<div>\n",
       "<style scoped>\n",
       "    .dataframe tbody tr th:only-of-type {\n",
       "        vertical-align: middle;\n",
       "    }\n",
       "\n",
       "    .dataframe tbody tr th {\n",
       "        vertical-align: top;\n",
       "    }\n",
       "\n",
       "    .dataframe thead th {\n",
       "        text-align: right;\n",
       "    }\n",
       "</style>\n",
       "<table border=\"1\" class=\"dataframe\">\n",
       "  <thead>\n",
       "    <tr style=\"text-align: right;\">\n",
       "      <th></th>\n",
       "      <th>lolopy_apply</th>\n",
       "      <th>lolopy_apply_transfer</th>\n",
       "      <th>lolopy_apply_wuncert</th>\n",
       "      <th>lolopy_train</th>\n",
       "      <th>lolopy_train_transfer</th>\n",
       "      <th>n</th>\n",
       "      <th>scala_apply</th>\n",
       "      <th>scala_apply_wuncert</th>\n",
       "      <th>scala_train</th>\n",
       "      <th>sklearn_apply</th>\n",
       "      <th>sklearn_fit</th>\n",
       "    </tr>\n",
       "  </thead>\n",
       "  <tbody>\n",
       "    <tr>\n",
       "      <th>0</th>\n",
       "      <td>0.168774</td>\n",
       "      <td>0.036671</td>\n",
       "      <td>0.223230</td>\n",
       "      <td>0.018927</td>\n",
       "      <td>0.004180</td>\n",
       "      <td>10</td>\n",
       "      <td>0.019295</td>\n",
       "      <td>0.043313</td>\n",
       "      <td>0.009134</td>\n",
       "      <td>0.001332</td>\n",
       "      <td>0.009301</td>\n",
       "    </tr>\n",
       "    <tr>\n",
       "      <th>1</th>\n",
       "      <td>0.162058</td>\n",
       "      <td>0.026611</td>\n",
       "      <td>0.208547</td>\n",
       "      <td>0.022139</td>\n",
       "      <td>0.003820</td>\n",
       "      <td>19</td>\n",
       "      <td>0.034489</td>\n",
       "      <td>0.081931</td>\n",
       "      <td>0.013069</td>\n",
       "      <td>0.002529</td>\n",
       "      <td>0.017451</td>\n",
       "    </tr>\n",
       "    <tr>\n",
       "      <th>2</th>\n",
       "      <td>0.175861</td>\n",
       "      <td>0.026911</td>\n",
       "      <td>0.220811</td>\n",
       "      <td>0.052034</td>\n",
       "      <td>0.005351</td>\n",
       "      <td>37</td>\n",
       "      <td>0.065698</td>\n",
       "      <td>0.142518</td>\n",
       "      <td>0.031263</td>\n",
       "      <td>0.004373</td>\n",
       "      <td>0.046970</td>\n",
       "    </tr>\n",
       "    <tr>\n",
       "      <th>3</th>\n",
       "      <td>0.230453</td>\n",
       "      <td>0.038513</td>\n",
       "      <td>0.348272</td>\n",
       "      <td>0.108824</td>\n",
       "      <td>0.008811</td>\n",
       "      <td>71</td>\n",
       "      <td>0.124177</td>\n",
       "      <td>0.291863</td>\n",
       "      <td>0.109170</td>\n",
       "      <td>0.009732</td>\n",
       "      <td>0.138534</td>\n",
       "    </tr>\n",
       "    <tr>\n",
       "      <th>4</th>\n",
       "      <td>0.350745</td>\n",
       "      <td>0.036226</td>\n",
       "      <td>0.530281</td>\n",
       "      <td>0.408466</td>\n",
       "      <td>0.007319</td>\n",
       "      <td>138</td>\n",
       "      <td>0.233825</td>\n",
       "      <td>0.540921</td>\n",
       "      <td>0.386770</td>\n",
       "      <td>0.019461</td>\n",
       "      <td>0.527817</td>\n",
       "    </tr>\n",
       "    <tr>\n",
       "      <th>5</th>\n",
       "      <td>0.592875</td>\n",
       "      <td>0.037038</td>\n",
       "      <td>0.887886</td>\n",
       "      <td>1.536619</td>\n",
       "      <td>0.011747</td>\n",
       "      <td>268</td>\n",
       "      <td>0.461132</td>\n",
       "      <td>1.101508</td>\n",
       "      <td>1.438554</td>\n",
       "      <td>0.042450</td>\n",
       "      <td>2.144870</td>\n",
       "    </tr>\n",
       "    <tr>\n",
       "      <th>6</th>\n",
       "      <td>1.040603</td>\n",
       "      <td>0.042343</td>\n",
       "      <td>1.873160</td>\n",
       "      <td>6.345031</td>\n",
       "      <td>0.019306</td>\n",
       "      <td>517</td>\n",
       "      <td>0.748146</td>\n",
       "      <td>2.287081</td>\n",
       "      <td>6.707419</td>\n",
       "      <td>0.090869</td>\n",
       "      <td>8.396858</td>\n",
       "    </tr>\n",
       "    <tr>\n",
       "      <th>7</th>\n",
       "      <td>1.741303</td>\n",
       "      <td>0.036372</td>\n",
       "      <td>4.449103</td>\n",
       "      <td>26.604419</td>\n",
       "      <td>0.046717</td>\n",
       "      <td>1000</td>\n",
       "      <td>1.631602</td>\n",
       "      <td>5.729469</td>\n",
       "      <td>26.525927</td>\n",
       "      <td>0.219365</td>\n",
       "      <td>33.733416</td>\n",
       "    </tr>\n",
       "  </tbody>\n",
       "</table>\n",
       "</div>"
      ],
      "text/plain": [
       "   lolopy_apply  lolopy_apply_transfer  lolopy_apply_wuncert  lolopy_train  \\\n",
       "0      0.168774               0.036671              0.223230      0.018927   \n",
       "1      0.162058               0.026611              0.208547      0.022139   \n",
       "2      0.175861               0.026911              0.220811      0.052034   \n",
       "3      0.230453               0.038513              0.348272      0.108824   \n",
       "4      0.350745               0.036226              0.530281      0.408466   \n",
       "5      0.592875               0.037038              0.887886      1.536619   \n",
       "6      1.040603               0.042343              1.873160      6.345031   \n",
       "7      1.741303               0.036372              4.449103     26.604419   \n",
       "\n",
       "   lolopy_train_transfer     n  scala_apply  scala_apply_wuncert  scala_train  \\\n",
       "0               0.004180    10     0.019295             0.043313     0.009134   \n",
       "1               0.003820    19     0.034489             0.081931     0.013069   \n",
       "2               0.005351    37     0.065698             0.142518     0.031263   \n",
       "3               0.008811    71     0.124177             0.291863     0.109170   \n",
       "4               0.007319   138     0.233825             0.540921     0.386770   \n",
       "5               0.011747   268     0.461132             1.101508     1.438554   \n",
       "6               0.019306   517     0.748146             2.287081     6.707419   \n",
       "7               0.046717  1000     1.631602             5.729469    26.525927   \n",
       "\n",
       "   sklearn_apply  sklearn_fit  \n",
       "0       0.001332     0.009301  \n",
       "1       0.002529     0.017451  \n",
       "2       0.004373     0.046970  \n",
       "3       0.009732     0.138534  \n",
       "4       0.019461     0.527817  \n",
       "5       0.042450     2.144870  \n",
       "6       0.090869     8.396858  \n",
       "7       0.219365    33.733416  "
      ]
     },
     "execution_count": 23,
     "metadata": {},
     "output_type": "execute_result"
    }
   ],
   "source": [
    "results"
   ]
  },
  {
   "cell_type": "markdown",
   "metadata": {},
   "source": [
    "Plot the training results"
   ]
  },
  {
   "cell_type": "code",
   "execution_count": 24,
   "metadata": {
    "scrolled": true
   },
   "outputs": [
    {
     "data": {
      "image/png": "[encoded data removed]",
      "text/plain": [
       "<Figure size 252x180 with 1 Axes>"
      ]
     },
     "metadata": {
      "needs_background": "light"
     },
     "output_type": "display_data"
    }
   ],
   "source": [
    "fig, ax = plt.subplots()\n",
    "\n",
    "ax.fill_between(results['n'], results['lolopy_train_transfer'], 0.001, alpha=0.1)\n",
    "\n",
    "ax.loglog(results['n'], results['lolopy_train'], 'r', label='lolopy')\n",
    "ax.loglog(results['n'], results['scala_train'], 'b--', label='lolo')\n",
    "ax.loglog(results['n'], results['sklearn_fit'], 'g:', label='sklearn')\n",
    "\n",
    "ax.set_ylim(0.005, max(ax.get_ylim()))\n",
    "\n",
    "ax.set_xlabel('Training Set Size')\n",
    "ax.set_ylabel('Train Time (s)')\n",
    "\n",
    "ax.legend()\n",
    "fig.set_size_inches(3.5, 2.5)\n",
    "fig.tight_layout()"
   ]
  },
  {
   "cell_type": "markdown",
   "metadata": {},
   "source": [
    "Plot the evaluation speed. Note that the number of trees scales with the training set size (hence the decrease in speed with training set size)"
   ]
  },
  {
   "cell_type": "code",
   "execution_count": 25,
   "metadata": {},
   "outputs": [
    {
     "data": {
      "image/png": "[encoded data removed]",
      "text/plain": [
       "<Figure size 468x180 with 2 Axes>"
      ]
     },
     "metadata": {
      "needs_background": "light"
     },
     "output_type": "display_data"
    }
   ],
   "source": [
    "fig, axs = plt.subplots(1, 2)\n",
    "\n",
    "# Plot results without uncertainties\n",
    "axs[0].loglog(results['n'], len(X)  / results['lolopy_apply'], 'r', label='lolopy')\n",
    "axs[0].loglog(results['n'], len(X) / results['scala_apply'], 'b--', label='lolo')\n",
    "axs[0].loglog(results['n'], len(X) / results['sklearn_apply'], 'g:', label='sklearn')\n",
    "axs[0].set_title('Without Uncertainties')\n",
    "\n",
    "# Plot results with uncertainities\n",
    "axs[1].loglog(results['n'], len(X)  / results['lolopy_apply_wuncert'], 'r', label='lolopy')\n",
    "axs[1].loglog(results['n'], len(X) / results['scala_apply_wuncert'], 'b--', label='lolo')\n",
    "axs[1].set_title('With Uncertainties')\n",
    "\n",
    "for ax in axs:\n",
    "\n",
    "    ax.set_xlabel('Training Set Size')\n",
    "    ax.set_ylabel('Evaluation Speed (entry/s)')\n",
    "\n",
    "    ax.legend()\n",
    "fig.set_size_inches(6.5, 2.5)\n",
    "fig.tight_layout()"
   ]
  },
  {
   "cell_type": "code",
   "execution_count": 26,
   "metadata": {},
   "outputs": [],
   "source": []
  }
 ],
 "metadata": {
  "kernelspec": {
   "display_name": "Python 3",
   "language": "python",
   "name": "python3"
  },
  "language_info": {
   "codemirror_mode": {
    "name": "ipython",
    "version": 3
   },
   "file_extension": ".py",
   "mimetype": "text/x-python",
   "name": "python",
   "nbconvert_exporter": "python",
   "pygments_lexer": "ipython3",
   "version": "3.7.1"
  }
 },
 "nbformat": 4,
 "nbformat_minor": 2
}
