{
 "cells": [
  {
   "cell_type": "markdown",
   "metadata": {},
   "source": [
    "# Assessing the Performance of Lolopy\n",
    "Transferring data to and from JVM is remarkably costly. In this notebook, we quantify how costly the transfer is compared to the training as a function of training set size. We will use a standard ML problem: predicting glass-forming ability of ternary metallic alloys."
   ]
  },
  {
   "cell_type": "code",
   "execution_count": 1,
   "metadata": {},
   "outputs": [],
   "source": [
    "%matplotlib inline\n",
    "from matplotlib import pyplot as plt\n",
    "from tqdm import tqdm_notebook as tqdm\n",
    "from matminer.datasets.dataset_retrieval import load_dataset\n",
    "from matminer.featurizers.composition import ElementProperty\n",
    "from lolopy.learners import RandomForestRegressor\n",
    "from lolopy.loloserver import find_lolo_jar\n",
    "from sklearn.ensemble import RandomForestRegressor as SKRFRegressor\n",
    "from scipy.interpolate import interp1d\n",
    "from subprocess import PIPE, Popen\n",
    "from pymatgen import Composition\n",
    "from time import perf_counter\n",
    "import pandas as pd\n",
    "import numpy as np"
   ]
  },
  {
   "cell_type": "markdown",
   "metadata": {},
   "source": [
    "Make a timing function. "
   ]
  },
  {
   "cell_type": "code",
   "execution_count": 2,
   "metadata": {},
   "outputs": [],
   "source": [
    "def time_function(fun, n, *args, **kwargs):\n",
    "    \"\"\"Run a certain function and return timing\n",
    "    \n",
    "    Args:\n",
    "        fun (function): Function to be evaluated\n",
    "        n (int): Number of times to run function\n",
    "        args: Input to function\n",
    "    Returns:\n",
    "        ([float]) Function run times\n",
    "    \"\"\"\n",
    "    \n",
    "    times = []\n",
    "    for i in range(n):\n",
    "        st = perf_counter()\n",
    "        fun(*args, **kwargs)\n",
    "        times.append(perf_counter() - st)\n",
    "    return times"
   ]
  },
  {
   "cell_type": "markdown",
   "metadata": {},
   "source": [
    "## Create the Dataset\n",
    "We'll use the Materials Project dataset"
   ]
  },
  {
   "cell_type": "markdown",
   "metadata": {},
   "source": [
    "Pull down the dataset"
   ]
  },
  {
   "cell_type": "code",
   "execution_count": 3,
   "metadata": {},
   "outputs": [],
   "source": [
    "data = load_dataset('mp_nostruct')"
   ]
  },
  {
   "cell_type": "markdown",
   "metadata": {},
   "source": [
    "Eliminate entries without formulas"
   ]
  },
  {
   "cell_type": "code",
   "execution_count": 4,
   "metadata": {},
   "outputs": [],
   "source": [
    "data = data[~ data['formula'].isnull()]"
   ]
  },
  {
   "cell_type": "markdown",
   "metadata": {},
   "source": [
    "Downselect to $10^3$ entries"
   ]
  },
  {
   "cell_type": "code",
   "execution_count": 5,
   "metadata": {},
   "outputs": [],
   "source": [
    "data = data.sample(1000)"
   ]
  },
  {
   "cell_type": "markdown",
   "metadata": {},
   "source": [
    "Generate some features"
   ]
  },
  {
   "cell_type": "code",
   "execution_count": 6,
   "metadata": {},
   "outputs": [],
   "source": [
    "X = np.array(ElementProperty.from_preset('magpie').featurize_many(data['formula'].apply(Composition), pbar=False))"
   ]
  },
  {
   "cell_type": "code",
   "execution_count": 7,
   "metadata": {},
   "outputs": [],
   "source": [
    "y = data['e_form'].values"
   ]
  },
  {
   "cell_type": "markdown",
   "metadata": {},
   "source": [
    "Make a function to run the scala benchmark"
   ]
  },
  {
   "cell_type": "code",
   "execution_count": 8,
   "metadata": {},
   "outputs": [],
   "source": [
    "lolojar = find_lolo_jar()"
   ]
  },
  {
   "cell_type": "code",
   "execution_count": 9,
   "metadata": {},
   "outputs": [],
   "source": [
    "def get_scala_timings(X, y, X_run):\n",
    "    \"\"\"Train a RF with standard settings using Lolo, generate uncertainties for whole dataset, report timings\n",
    "    \n",
    "    Args:\n",
    "        X, y (ndarray): Training dataset\n",
    "        X_run (ndarray): Dataset to evaluate\n",
    "    Returns:\n",
    "        train, expected, uncertainty (float): Training time, expected and uncertainty evaluation times\n",
    "    \"\"\"\n",
    "    np.savetxt('train.csv', np.hstack((X, y[:, None])), delimiter=',')\n",
    "    np.savetxt('run.csv', np.hstack((X_run, np.zeros((len(X_run), 1)))), delimiter=',')\n",
    "    p = Popen('scala -J-Xmx8g -cp {} scala-benchmark.scala train.csv run.csv'.format(lolojar), stdout=PIPE, \n",
    "         stderr=PIPE, shell=True)\n",
    "    \n",
    "    result = p.stdout.read().decode()\n",
    "    return map(float, result.split(','))"
   ]
  },
  {
   "cell_type": "code",
   "execution_count": 10,
   "metadata": {},
   "outputs": [],
   "source": [
    "scala_train, scala_expect, scala_uncert = get_scala_timings(X, y, X)"
   ]
  },
  {
   "cell_type": "code",
   "execution_count": 11,
   "metadata": {},
   "outputs": [
    {
     "name": "stdout",
     "output_type": "stream",
     "text": [
      "Lolo train time: 25.0268002725\n"
     ]
    }
   ],
   "source": [
    "print('Lolo train time:', scala_train)"
   ]
  },
  {
   "cell_type": "code",
   "execution_count": 12,
   "metadata": {},
   "outputs": [
    {
     "name": "stdout",
     "output_type": "stream",
     "text": [
      "Lolo apply time 5.184949755083333\n"
     ]
    }
   ],
   "source": [
    "print('Lolo apply time', scala_expect + scala_uncert)"
   ]
  },
  {
   "cell_type": "markdown",
   "metadata": {},
   "source": [
    "## Profile Fitting the Model\n",
    "We are looking to comprae the total time for fitting a model to the time required to send data over"
   ]
  },
  {
   "cell_type": "code",
   "execution_count": 13,
   "metadata": {},
   "outputs": [],
   "source": [
    "model = RandomForestRegressor(num_trees=len(X))"
   ]
  },
  {
   "cell_type": "markdown",
   "metadata": {},
   "source": [
    "Fit the model 16 times, measure the times"
   ]
  },
  {
   "cell_type": "code",
   "execution_count": 14,
   "metadata": {},
   "outputs": [
    {
     "name": "stdout",
     "output_type": "stream",
     "text": [
      "Average fit time: 25.836265772373736\n"
     ]
    }
   ],
   "source": [
    "rf_fit = time_function(model.fit, 16, X, y)\n",
    "print('Average fit time:', np.mean(rf_fit))"
   ]
  },
  {
   "cell_type": "markdown",
   "metadata": {},
   "source": [
    "Run only transfering the data to Java, record the time"
   ]
  },
  {
   "cell_type": "code",
   "execution_count": 15,
   "metadata": {},
   "outputs": [],
   "source": [
    "x_java, _ = model._convert_train_data(X, y, None)"
   ]
  },
  {
   "cell_type": "code",
   "execution_count": 16,
   "metadata": {},
   "outputs": [
    {
     "name": "stdout",
     "output_type": "stream",
     "text": [
      "Average transfer time: 0.024832841125316918\n"
     ]
    }
   ],
   "source": [
    "rf_transfer = time_function(model._convert_train_data, 16, X, y)\n",
    "print('Average transfer time:', np.mean(rf_transfer))"
   ]
  },
  {
   "cell_type": "markdown",
   "metadata": {},
   "source": [
    "Compute uncertainities"
   ]
  },
  {
   "cell_type": "code",
   "execution_count": 17,
   "metadata": {},
   "outputs": [
    {
     "name": "stdout",
     "output_type": "stream",
     "text": [
      "Average predict time: 4.532787880501928\n"
     ]
    }
   ],
   "source": [
    "rf_apply = time_function(model.predict, 16, X, return_std=True)\n",
    "print('Average predict time:', np.mean(rf_apply))"
   ]
  },
  {
   "cell_type": "code",
   "execution_count": 18,
   "metadata": {},
   "outputs": [
    {
     "name": "stdout",
     "output_type": "stream",
     "text": [
      "Average transfer time for prediction: 0.03166484831672278\n"
     ]
    }
   ],
   "source": [
    "rf_apply_transfer = time_function(model._convert_run_data, 16, X)\n",
    "print('Average transfer time for prediction:', np.mean(rf_apply_transfer))"
   ]
  },
  {
   "cell_type": "markdown",
   "metadata": {},
   "source": [
    "## Time Scikit-Learn\n",
    "Compare against a scikit-learn model with the same amount of trees as Lolo."
   ]
  },
  {
   "cell_type": "code",
   "execution_count": 19,
   "metadata": {},
   "outputs": [],
   "source": [
    "sk_model = SKRFRegressor(n_estimators=len(X), n_jobs=-1)"
   ]
  },
  {
   "cell_type": "code",
   "execution_count": 20,
   "metadata": {},
   "outputs": [],
   "source": [
    "sk_train = time_function(sk_model.fit, 16, X, y)"
   ]
  },
  {
   "cell_type": "code",
   "execution_count": 21,
   "metadata": {},
   "outputs": [
    {
     "name": "stdout",
     "output_type": "stream",
     "text": [
      "Sklearn fitting time: 6.492418694690059\n"
     ]
    }
   ],
   "source": [
    "print('Sklearn fitting time:', np.mean(sk_train))"
   ]
  },
  {
   "cell_type": "markdown",
   "metadata": {
    "collapsed": true
   },
   "source": [
    "## Compare as a Function of Scale\n",
    "Measure the performance of each model as a function of training/test set size"
   ]
  },
  {
   "cell_type": "code",
   "execution_count": 22,
   "metadata": {},
   "outputs": [
    {
     "data": {
      "application/vnd.jupyter.widget-view+json": {
       "model_id": "3f6bfedd4c5f459dbd537b1a33d4fbe1",
       "version_major": 2,
       "version_minor": 0
      },
      "text/plain": [
       "HBox(children=(IntProgress(value=0, max=8), HTML(value='')))"
      ]
     },
     "metadata": {},
     "output_type": "display_data"
    },
    {
     "name": "stdout",
     "output_type": "stream",
     "text": [
      "\n"
     ]
    }
   ],
   "source": [
    "results = []\n",
    "for n in tqdm(np.logspace(1, np.log10(len(X)), 8, dtype=int)):\n",
    "    # Initialize output\n",
    "    r = {'n': n}\n",
    "    \n",
    "    # Get the training and test set sizes\n",
    "    X_n = X[:n, :]\n",
    "    y_n = y[:n]\n",
    "    \n",
    "    # Time using lolo via Scala\n",
    "    scala_train, scala_expect, scala_uncert = get_scala_timings(X_n, y_n, X)\n",
    "    r['scala_train'] = scala_train\n",
    "    r['scala_apply'] = scala_expect\n",
    "    r['scala_apply_wuncert'] = scala_expect + scala_uncert\n",
    "    \n",
    "    # Time using lolo via lolopy\n",
    "    model.set_params(num_trees=len(X_n))\n",
    "    \n",
    "    r['lolopy_train'] = np.mean(time_function(model.fit, 16, X_n, y_n))\n",
    "    r['lolopy_train_transfer'] = np.mean(time_function(model._convert_train_data, 16, X_n, y_n))\n",
    "    \n",
    "    r['lolopy_apply'] = np.mean(time_function(model.predict, 16, X, return_std=False))\n",
    "    r['lolopy_apply_wuncert'] = np.mean(time_function(model.predict, 16, X, return_std=True))\n",
    "    r['lolopy_apply_transfer'] = np.mean(time_function(model._convert_run_data, 16, X))\n",
    "    \n",
    "    model.clear_model()  # To save memory\n",
    "    \n",
    "    # Time using RF\n",
    "    sk_model = SKRFRegressor(n_estimators=n)\n",
    "    \n",
    "    r['sklearn_fit'] = np.mean(time_function(sk_model.fit, 16, X_n, y_n))\n",
    "    r['sklearn_apply'] = np.mean(time_function(sk_model.predict, 16, X))\n",
    "    \n",
    "    # Append results and continue\n",
    "    results.append(r)"
   ]
  },
  {
   "cell_type": "code",
   "execution_count": 23,
   "metadata": {},
   "outputs": [],
   "source": [
    "results = pd.DataFrame(results)"
   ]
  },
  {
   "cell_type": "code",
   "execution_count": 24,
   "metadata": {
    "scrolled": true
   },
   "outputs": [
    {
     "data": {
      "text/html": [
       "<div>\n",
       "<style scoped>\n",
       "    .dataframe tbody tr th:only-of-type {\n",
       "        vertical-align: middle;\n",
       "    }\n",
       "\n",
       "    .dataframe tbody tr th {\n",
       "        vertical-align: top;\n",
       "    }\n",
       "\n",
       "    .dataframe thead th {\n",
       "        text-align: right;\n",
       "    }\n",
       "</style>\n",
       "<table border=\"1\" class=\"dataframe\">\n",
       "  <thead>\n",
       "    <tr style=\"text-align: right;\">\n",
       "      <th></th>\n",
       "      <th>lolopy_apply</th>\n",
       "      <th>lolopy_apply_transfer</th>\n",
       "      <th>lolopy_apply_wuncert</th>\n",
       "      <th>lolopy_train</th>\n",
       "      <th>lolopy_train_transfer</th>\n",
       "      <th>n</th>\n",
       "      <th>scala_apply</th>\n",
       "      <th>scala_apply_wuncert</th>\n",
       "      <th>scala_train</th>\n",
       "      <th>sklearn_apply</th>\n",
       "      <th>sklearn_fit</th>\n",
       "    </tr>\n",
       "  </thead>\n",
       "  <tbody>\n",
       "    <tr>\n",
       "      <th>0</th>\n",
       "      <td>0.116662</td>\n",
       "      <td>0.024391</td>\n",
       "      <td>0.165237</td>\n",
       "      <td>0.017087</td>\n",
       "      <td>0.003188</td>\n",
       "      <td>10</td>\n",
       "      <td>0.015996</td>\n",
       "      <td>0.035499</td>\n",
       "      <td>0.005603</td>\n",
       "      <td>0.001232</td>\n",
       "      <td>0.006404</td>\n",
       "    </tr>\n",
       "    <tr>\n",
       "      <th>1</th>\n",
       "      <td>0.133029</td>\n",
       "      <td>0.024051</td>\n",
       "      <td>0.189982</td>\n",
       "      <td>0.016471</td>\n",
       "      <td>0.002876</td>\n",
       "      <td>19</td>\n",
       "      <td>0.029241</td>\n",
       "      <td>0.062266</td>\n",
       "      <td>0.010618</td>\n",
       "      <td>0.002103</td>\n",
       "      <td>0.015835</td>\n",
       "    </tr>\n",
       "    <tr>\n",
       "      <th>2</th>\n",
       "      <td>0.168782</td>\n",
       "      <td>0.026943</td>\n",
       "      <td>0.255486</td>\n",
       "      <td>0.036207</td>\n",
       "      <td>0.003416</td>\n",
       "      <td>37</td>\n",
       "      <td>0.053957</td>\n",
       "      <td>0.124907</td>\n",
       "      <td>0.027915</td>\n",
       "      <td>0.004003</td>\n",
       "      <td>0.038460</td>\n",
       "    </tr>\n",
       "    <tr>\n",
       "      <th>3</th>\n",
       "      <td>0.222436</td>\n",
       "      <td>0.029697</td>\n",
       "      <td>0.319998</td>\n",
       "      <td>0.099397</td>\n",
       "      <td>0.004629</td>\n",
       "      <td>71</td>\n",
       "      <td>0.118092</td>\n",
       "      <td>0.281287</td>\n",
       "      <td>0.082423</td>\n",
       "      <td>0.008115</td>\n",
       "      <td>0.128532</td>\n",
       "    </tr>\n",
       "    <tr>\n",
       "      <th>4</th>\n",
       "      <td>0.324749</td>\n",
       "      <td>0.047900</td>\n",
       "      <td>0.477770</td>\n",
       "      <td>0.361892</td>\n",
       "      <td>0.005894</td>\n",
       "      <td>138</td>\n",
       "      <td>0.223314</td>\n",
       "      <td>0.524047</td>\n",
       "      <td>0.334785</td>\n",
       "      <td>0.016721</td>\n",
       "      <td>0.472197</td>\n",
       "    </tr>\n",
       "    <tr>\n",
       "      <th>5</th>\n",
       "      <td>0.542687</td>\n",
       "      <td>0.023511</td>\n",
       "      <td>0.803255</td>\n",
       "      <td>1.476095</td>\n",
       "      <td>0.013816</td>\n",
       "      <td>268</td>\n",
       "      <td>0.410609</td>\n",
       "      <td>1.031157</td>\n",
       "      <td>1.355419</td>\n",
       "      <td>0.037041</td>\n",
       "      <td>1.944339</td>\n",
       "    </tr>\n",
       "    <tr>\n",
       "      <th>6</th>\n",
       "      <td>0.911938</td>\n",
       "      <td>0.028466</td>\n",
       "      <td>1.665230</td>\n",
       "      <td>6.058513</td>\n",
       "      <td>0.017012</td>\n",
       "      <td>517</td>\n",
       "      <td>0.821408</td>\n",
       "      <td>2.295356</td>\n",
       "      <td>5.728549</td>\n",
       "      <td>0.081465</td>\n",
       "      <td>7.859019</td>\n",
       "    </tr>\n",
       "    <tr>\n",
       "      <th>7</th>\n",
       "      <td>1.739875</td>\n",
       "      <td>0.030233</td>\n",
       "      <td>4.498204</td>\n",
       "      <td>21.606862</td>\n",
       "      <td>0.036226</td>\n",
       "      <td>1000</td>\n",
       "      <td>1.426820</td>\n",
       "      <td>5.280560</td>\n",
       "      <td>24.840871</td>\n",
       "      <td>0.187823</td>\n",
       "      <td>31.290804</td>\n",
       "    </tr>\n",
       "  </tbody>\n",
       "</table>\n",
       "</div>"
      ],
      "text/plain": [
       "   lolopy_apply  lolopy_apply_transfer  lolopy_apply_wuncert  lolopy_train  \\\n",
       "0      0.116662               0.024391              0.165237      0.017087   \n",
       "1      0.133029               0.024051              0.189982      0.016471   \n",
       "2      0.168782               0.026943              0.255486      0.036207   \n",
       "3      0.222436               0.029697              0.319998      0.099397   \n",
       "4      0.324749               0.047900              0.477770      0.361892   \n",
       "5      0.542687               0.023511              0.803255      1.476095   \n",
       "6      0.911938               0.028466              1.665230      6.058513   \n",
       "7      1.739875               0.030233              4.498204     21.606862   \n",
       "\n",
       "   lolopy_train_transfer     n  scala_apply  scala_apply_wuncert  scala_train  \\\n",
       "0               0.003188    10     0.015996             0.035499     0.005603   \n",
       "1               0.002876    19     0.029241             0.062266     0.010618   \n",
       "2               0.003416    37     0.053957             0.124907     0.027915   \n",
       "3               0.004629    71     0.118092             0.281287     0.082423   \n",
       "4               0.005894   138     0.223314             0.524047     0.334785   \n",
       "5               0.013816   268     0.410609             1.031157     1.355419   \n",
       "6               0.017012   517     0.821408             2.295356     5.728549   \n",
       "7               0.036226  1000     1.426820             5.280560    24.840871   \n",
       "\n",
       "   sklearn_apply  sklearn_fit  \n",
       "0       0.001232     0.006404  \n",
       "1       0.002103     0.015835  \n",
       "2       0.004003     0.038460  \n",
       "3       0.008115     0.128532  \n",
       "4       0.016721     0.472197  \n",
       "5       0.037041     1.944339  \n",
       "6       0.081465     7.859019  \n",
       "7       0.187823    31.290804  "
      ]
     },
     "execution_count": 24,
     "metadata": {},
     "output_type": "execute_result"
    }
   ],
   "source": [
    "results"
   ]
  },
  {
   "cell_type": "markdown",
   "metadata": {},
   "source": [
    "Plot the training results. The blue shading is the data transfer time"
   ]
  },
  {
   "cell_type": "code",
   "execution_count": 25,
   "metadata": {
    "scrolled": true
   },
   "outputs": [
    {
     "data": {
      "image/png": "[encoded data removed]",
      "text/plain": [
       "<Figure size 252x180 with 1 Axes>"
      ]
     },
     "metadata": {
      "needs_background": "light"
     },
     "output_type": "display_data"
    }
   ],
   "source": [
    "fig, ax = plt.subplots()\n",
    "\n",
    "ax.fill_between(results['n'], results['lolopy_train_transfer'], 0.001, alpha=0.1)\n",
    "\n",
    "ax.loglog(results['n'], results['lolopy_train'], 'r', label='lolopy')\n",
    "ax.loglog(results['n'], results['scala_train'], 'b--', label='lolo')\n",
    "ax.loglog(results['n'], results['sklearn_fit'], 'g:', label='sklearn')\n",
    "\n",
    "ax.set_ylim(0.005, max(ax.get_ylim()))\n",
    "\n",
    "ax.set_xlabel('Training Set Size')\n",
    "ax.set_ylabel('Train Time (s)')\n",
    "\n",
    "ax.legend()\n",
    "fig.set_size_inches(3.5, 2.5)\n",
    "fig.tight_layout()\n",
    "fig.savefig('training-performance.png')"
   ]
  },
  {
   "cell_type": "markdown",
   "metadata": {},
   "source": [
    "Plot the evaluation speed. Note that the number of trees scales with the training set size (hence the decrease in speed with training set size)"
   ]
  },
  {
   "cell_type": "code",
   "execution_count": 26,
   "metadata": {},
   "outputs": [
    {
     "data": {
      "image/png": "[encoded data removed]",
      "text/plain": [
       "<Figure size 468x180 with 2 Axes>"
      ]
     },
     "metadata": {
      "needs_background": "light"
     },
     "output_type": "display_data"
    }
   ],
   "source": [
    "fig, axs = plt.subplots(1, 2)\n",
    "\n",
    "# Plot results without uncertainties\n",
    "axs[0].loglog(results['n'], len(X)  / results['lolopy_apply'], 'r', label='lolopy')\n",
    "axs[0].loglog(results['n'], len(X) / results['scala_apply'], 'b--', label='lolo')\n",
    "axs[0].loglog(results['n'], len(X) / results['sklearn_apply'], 'g:', label='sklearn')\n",
    "axs[0].set_title('Without Uncertainties')\n",
    "\n",
    "# Plot results with uncertainities\n",
    "axs[1].loglog(results['n'], len(X)  / results['lolopy_apply_wuncert'], 'r', label='lolopy')\n",
    "axs[1].loglog(results['n'], len(X) / results['scala_apply_wuncert'], 'b--', label='lolo')\n",
    "axs[1].set_title('With Uncertainties')\n",
    "\n",
    "for ax in axs:\n",
    "\n",
    "    ax.set_xlabel('Training Set Size')\n",
    "    ax.set_ylabel('Evaluation Speed (entry/s)')\n",
    "\n",
    "    ax.legend()\n",
    "fig.set_size_inches(6.5, 2.5)\n",
    "fig.tight_layout()\n",
    "fig.savefig('evaluation-performance.png')"
   ]
  },
  {
   "cell_type": "markdown",
   "metadata": {},
   "source": [
    "Verify that performance is within acceptable bounds: Less than a 2x slowdown for model training or evaluation at a training set size of 100 entries."
   ]
  },
  {
   "cell_type": "code",
   "execution_count": 27,
   "metadata": {},
   "outputs": [
    {
     "name": "stdout",
     "output_type": "stream",
     "text": [
      "Training slowdown: 1.11\n"
     ]
    }
   ],
   "source": [
    "lolopy_timing = interp1d(results['n'], results['lolopy_train'])\n",
    "lolo_timing = interp1d(results['n'], results['scala_train'])\n",
    "slowdown = lolopy_timing(100) / lolo_timing(100)\n",
    "print('Training slowdown: {:.2f}'.format(slowdown))\n",
    "assert slowdown < 2"
   ]
  },
  {
   "cell_type": "code",
   "execution_count": 28,
   "metadata": {},
   "outputs": [
    {
     "name": "stdout",
     "output_type": "stream",
     "text": [
      "Evaluation without uncertainties slowdown: 1.63\n"
     ]
    }
   ],
   "source": [
    "lolopy_timing = interp1d(results['n'], results['lolopy_apply'])\n",
    "lolo_timing = interp1d(results['n'], results['scala_apply'])\n",
    "slowdown = lolopy_timing(100) / lolo_timing(100)\n",
    "print('Evaluation without uncertainties slowdown: {:.2f}'.format(slowdown))\n",
    "assert slowdown < 2"
   ]
  },
  {
   "cell_type": "code",
   "execution_count": 29,
   "metadata": {},
   "outputs": [
    {
     "name": "stdout",
     "output_type": "stream",
     "text": [
      "Evaluation with uncertainties slowdown: 1.00\n"
     ]
    }
   ],
   "source": [
    "lolopy_timing = interp1d(results['n'], results['lolopy_apply_wuncert'])\n",
    "lolo_timing = interp1d(results['n'], results['scala_apply_wuncert'])\n",
    "slowdown = lolopy_timing(100) / lolo_timing(100)\n",
    "print('Evaluation with uncertainties slowdown: {:.2f}'.format(slowdown))"
   ]
  },
  {
   "cell_type": "code",
   "execution_count": 30,
   "metadata": {},
   "outputs": [],
   "source": []
  }
 ],
 "metadata": {
  "kernelspec": {
   "display_name": "Python 3",
   "language": "python",
   "name": "python3"
  },
  "language_info": {
   "codemirror_mode": {
    "name": "ipython",
    "version": 3
   },
   "file_extension": ".py",
   "mimetype": "text/x-python",
   "name": "python",
   "nbconvert_exporter": "python",
   "pygments_lexer": "ipython3",
   "version": "3.7.1"
  }
 },
 "nbformat": 4,
 "nbformat_minor": 2
}
